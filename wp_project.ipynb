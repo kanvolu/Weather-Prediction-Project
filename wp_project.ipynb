{
 "cells": [
  {
   "cell_type": "code",
   "execution_count": 1,
   "id": "86c8b872-6ad3-4ddb-8b89-ab6bb8cafba5",
   "metadata": {},
   "outputs": [],
   "source": [
    "import pandas as pd"
   ]
  },
  {
   "cell_type": "code",
   "execution_count": 2,
   "id": "1294f1b0-e39e-4808-b49f-06762f9f4e92",
   "metadata": {},
   "outputs": [
    {
     "data": {
      "text/html": [
       "<div>\n",
       "<style scoped>\n",
       "    .dataframe tbody tr th:only-of-type {\n",
       "        vertical-align: middle;\n",
       "    }\n",
       "\n",
       "    .dataframe tbody tr th {\n",
       "        vertical-align: top;\n",
       "    }\n",
       "\n",
       "    .dataframe thead th {\n",
       "        text-align: right;\n",
       "    }\n",
       "</style>\n",
       "<table border=\"1\" class=\"dataframe\">\n",
       "  <thead>\n",
       "    <tr style=\"text-align: right;\">\n",
       "      <th></th>\n",
       "      <th>CodigoEstacion</th>\n",
       "      <th>FechaObservacion</th>\n",
       "      <th>ValorObservado</th>\n",
       "    </tr>\n",
       "  </thead>\n",
       "  <tbody>\n",
       "    <tr>\n",
       "      <th>0</th>\n",
       "      <td>21206960</td>\n",
       "      <td>07/09/2013 03:00:00 AM</td>\n",
       "      <td>746.900</td>\n",
       "    </tr>\n",
       "    <tr>\n",
       "      <th>1</th>\n",
       "      <td>21206960</td>\n",
       "      <td>03/01/2009 07:00:00 PM</td>\n",
       "      <td>744.000</td>\n",
       "    </tr>\n",
       "    <tr>\n",
       "      <th>2</th>\n",
       "      <td>21206940</td>\n",
       "      <td>01/29/2012 09:00:00 PM</td>\n",
       "      <td>742.000</td>\n",
       "    </tr>\n",
       "    <tr>\n",
       "      <th>3</th>\n",
       "      <td>21205509</td>\n",
       "      <td>12/02/2018 01:50:00 PM</td>\n",
       "      <td>702.358</td>\n",
       "    </tr>\n",
       "    <tr>\n",
       "      <th>4</th>\n",
       "      <td>21205012</td>\n",
       "      <td>09/13/2017 04:00:00 AM</td>\n",
       "      <td>754.000</td>\n",
       "    </tr>\n",
       "    <tr>\n",
       "      <th>...</th>\n",
       "      <td>...</td>\n",
       "      <td>...</td>\n",
       "      <td>...</td>\n",
       "    </tr>\n",
       "    <tr>\n",
       "      <th>1013335</th>\n",
       "      <td>21205710</td>\n",
       "      <td>09/11/2023 10:00:00 AM</td>\n",
       "      <td>754.400</td>\n",
       "    </tr>\n",
       "    <tr>\n",
       "      <th>1013336</th>\n",
       "      <td>21205710</td>\n",
       "      <td>09/11/2023 03:00:00 PM</td>\n",
       "      <td>751.500</td>\n",
       "    </tr>\n",
       "    <tr>\n",
       "      <th>1013337</th>\n",
       "      <td>21205710</td>\n",
       "      <td>09/11/2023 03:00:00 AM</td>\n",
       "      <td>753.100</td>\n",
       "    </tr>\n",
       "    <tr>\n",
       "      <th>1013338</th>\n",
       "      <td>21205710</td>\n",
       "      <td>09/11/2023 06:00:00 PM</td>\n",
       "      <td>752.000</td>\n",
       "    </tr>\n",
       "    <tr>\n",
       "      <th>1013339</th>\n",
       "      <td>21205710</td>\n",
       "      <td>09/11/2023 04:00:00 PM</td>\n",
       "      <td>751.300</td>\n",
       "    </tr>\n",
       "  </tbody>\n",
       "</table>\n",
       "<p>990720 rows × 3 columns</p>\n",
       "</div>"
      ],
      "text/plain": [
       "         CodigoEstacion        FechaObservacion  ValorObservado\n",
       "0              21206960  07/09/2013 03:00:00 AM         746.900\n",
       "1              21206960  03/01/2009 07:00:00 PM         744.000\n",
       "2              21206940  01/29/2012 09:00:00 PM         742.000\n",
       "3              21205509  12/02/2018 01:50:00 PM         702.358\n",
       "4              21205012  09/13/2017 04:00:00 AM         754.000\n",
       "...                 ...                     ...             ...\n",
       "1013335        21205710  09/11/2023 10:00:00 AM         754.400\n",
       "1013336        21205710  09/11/2023 03:00:00 PM         751.500\n",
       "1013337        21205710  09/11/2023 03:00:00 AM         753.100\n",
       "1013338        21205710  09/11/2023 06:00:00 PM         752.000\n",
       "1013339        21205710  09/11/2023 04:00:00 PM         751.300\n",
       "\n",
       "[990720 rows x 3 columns]"
      ]
     },
     "execution_count": 2,
     "metadata": {},
     "output_type": "execute_result"
    }
   ],
   "source": [
    "pa = pd.read_csv(r\"D:\\Documents\\Weather Prediction Project\\Presion_atmosferica.csv\")\n",
    "\n",
    "pa = pa.drop(columns = ['CodigoSensor','NombreEstacion', 'Departamento', 'Municipio', 'ZonaHidrografica',\n",
    "       'Latitud', 'Longitud', 'DescripcionSensor', 'UnidadMedida'])\n",
    "pa.drop_duplicates()\n"
   ]
  },
  {
   "cell_type": "markdown",
   "id": "1f49e9c0-ff25-4cbc-bfd3-be1c10821fc8",
   "metadata": {},
   "source": [
    "pa[[\"Fecha\", \"Hora\"]] = pa[\"FechaObservacion\"].str.split(' ', n=1, expand=True)\n",
    "pa[\"Hora\"]  = pd.to_datetime(pa[\"Hora\"], format=\"%I:%M:%S %p\")\n",
    "pa[\"Minuto\"] = pa[\"Hora\"].dt.strftime(\"%M\")\n",
    "pa[\"Hora\"] = pa[\"Hora\"].dt.strftime(\"%H\")\n",
    "pa.drop(columns = \"FechaObservacion\")"
   ]
  },
  {
   "cell_type": "code",
   "execution_count": 3,
   "id": "29c223d3-7a72-4599-8b76-669815d50ce7",
   "metadata": {},
   "outputs": [],
   "source": [
    "pa[\"FechaObservacion\"] = pd.to_datetime(pa[\"FechaObservacion\"], format=\"%m/%d/%Y %I:%M:%S %p\")\n"
   ]
  },
  {
   "cell_type": "code",
   "execution_count": 4,
   "id": "657e3e4f-30f2-47ba-a1c5-5fc8ababa90e",
   "metadata": {},
   "outputs": [],
   "source": [
    "#pa[\"Fecha\"] = pd.to_datetime(pa[\"Fecha\"])"
   ]
  },
  {
   "cell_type": "code",
   "execution_count": 18,
   "id": "8a3997c9-2263-4cdf-891d-2e2e15831897",
   "metadata": {},
   "outputs": [
    {
     "data": {
      "text/plain": [
       "Timestamp('2010-01-01 00:00:00')"
      ]
     },
     "execution_count": 18,
     "metadata": {},
     "output_type": "execute_result"
    }
   ],
   "source": [
    "fecha_0 = pd.to_datetime(\"01/01/2010 12:00:00 AM\", format=\"%m/%d/%Y %I:%M:%S %p\")\n",
    "fecha_0"
   ]
  },
  {
   "cell_type": "code",
   "execution_count": 19,
   "id": "4a13a0d0-9358-4d78-b33c-f178c9e8ab02",
   "metadata": {},
   "outputs": [],
   "source": [
    "diferencia = pa[\"FechaObservacion\"] - fecha_0"
   ]
  },
  {
   "cell_type": "code",
   "execution_count": 20,
   "id": "fa4ba63c-3aef-4edc-8221-93408abc9441",
   "metadata": {},
   "outputs": [
    {
     "data": {
      "text/plain": [
       "0          1285 days 03:00:00\n",
       "1         -306 days +19:00:00\n",
       "2           758 days 21:00:00\n",
       "3          3257 days 13:50:00\n",
       "4          2812 days 04:00:00\n",
       "                  ...        \n",
       "1013335    5001 days 10:00:00\n",
       "1013336    5001 days 15:00:00\n",
       "1013337    5001 days 03:00:00\n",
       "1013338    5001 days 18:00:00\n",
       "1013339    5001 days 16:00:00\n",
       "Name: FechaObservacion, Length: 1013340, dtype: timedelta64[ns]"
      ]
     },
     "execution_count": 20,
     "metadata": {},
     "output_type": "execute_result"
    }
   ],
   "source": [
    "diferencia"
   ]
  },
  {
   "cell_type": "code",
   "execution_count": null,
   "id": "0acf0563-4491-4534-9496-90d8755b7d9e",
   "metadata": {},
   "outputs": [],
   "source": []
  }
 ],
 "metadata": {
  "kernelspec": {
   "display_name": "Python 3 (ipykernel)",
   "language": "python",
   "name": "python3"
  },
  "language_info": {
   "codemirror_mode": {
    "name": "ipython",
    "version": 3
   },
   "file_extension": ".py",
   "mimetype": "text/x-python",
   "name": "python",
   "nbconvert_exporter": "python",
   "pygments_lexer": "ipython3",
   "version": "3.13.5"
  }
 },
 "nbformat": 4,
 "nbformat_minor": 5
}
