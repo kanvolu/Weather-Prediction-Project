{
 "cells": [
  {
   "cell_type": "code",
   "execution_count": null,
   "id": "d4eedda1",
   "metadata": {},
   "outputs": [],
   "source": [
    "import pandas as pd\n",
    "import numpy as np\n",
    "import xarray as xr"
   ]
  },
  {
   "cell_type": "code",
   "execution_count": null,
   "id": "04840cac",
   "metadata": {},
   "outputs": [],
   "source": [
    "dv = pd.read_csv('Direccion_del_viento(06-07-025).csv')\n",
    "vv = pd.read_csv('Velocidad_del_Viento(06-07-025).csv')\n",
    "hu = pd.read_csv('Humedad_del_Aire(06-07-025).csv')\n",
    "pr = pd.read_csv('Precipitacion(06-07-025).csv')\n",
    "pa = pd.read_csv('Presion_atmosferica(06-07-025).csv')\n",
    "tp = pd.read_csv('Temperatura_Ambiente_del_Aire(06-07-025).csv')"
   ]
  },
  {
   "cell_type": "code",
   "execution_count": 41,
   "id": "c2b352b4",
   "metadata": {},
   "outputs": [],
   "source": [
    "def trim(df):\n",
    "    df = df.drop(columns=['CodigoSensor', 'NombreEstacion', 'Departamento', 'Municipio', 'ZonaHidrografica', 'Latitud', 'Longitud', 'DescripcionSensor', 'UnidadMedida'])\n",
    "    df.drop_duplicates()\n",
    "    df = df[df[\"CodigoEstacion\"].isin([21205012,21205710,21205791,21206600,21206940,21206960])]\n",
    "    df[\"ValorObservado\"] = pd.to_numeric(df[\"ValorObservado\"], errors=\"coerce\")\n",
    "    df['FechaObservacion'] = pd.to_datetime(df['FechaObservacion'], format=\"%m/%d/%Y %I:%M:%S %p\")\n",
    "    df = df.loc[df['FechaObservacion'] >= '2010-01-01']\n",
    "    df['Fecha'] = df['FechaObservacion'].dt.date\n",
    "    df['Hora'] = df['FechaObservacion'].dt.hour\n",
    "    df = df.drop(columns=['FechaObservacion'])\n",
    "    return df\n",
    "        \n"
   ]
  },
  {
   "cell_type": "code",
   "execution_count": 42,
   "id": "c3933322",
   "metadata": {},
   "outputs": [],
   "source": [
    "def reshape(df):\n",
    "    dates    = pd.date_range(df[\"Fecha\"].min(), df[\"Fecha\"].max(), freq=\"D\")\n",
    "    hours    = np.arange(24)\n",
    "    stations = df[\"CodigoEstacion\"].unique()\n",
    "    full_idx = pd.MultiIndex.from_product(\n",
    "        [dates, hours, stations],\n",
    "        names=[\"Fecha\",\"Hora\",\"CodigoEstacion\"]\n",
    "    )\n",
    "    s = ( df\n",
    "      .set_index([\"Fecha\",\"Hora\",\"CodigoEstacion\"])[\"ValorObservado\"]\n",
    "      .reindex(full_idx)\n",
    "    )\n",
    "    return s"
   ]
  },
  {
   "cell_type": "code",
   "execution_count": 43,
   "id": "b171de7a",
   "metadata": {},
   "outputs": [],
   "source": [
    "def interpolate(df):\n",
    "    df = df.interpolate_na(dim=\"CodigoEstacion\", method=\"nearest\", fill_value=\"extrapolate\")\n",
    "    df = df.interpolate_na(dim=\"Hora\", method=\"nearest\", fill_value=\"extrapolate\")\n",
    "    df = df.interpolate_na(dim=\"Fecha\", method=\"nearest\", fill_value=\"extrapolate\")\n",
    "    return df"
   ]
  },
  {
   "cell_type": "code",
   "execution_count": 44,
   "id": "477569f3",
   "metadata": {},
   "outputs": [],
   "source": [
    "def average_angle(angles):\n",
    "\n",
    "    angles = np.radians(angles)\n",
    "    x = np.sum(np.cos(angles))\n",
    "    y = np.sum(np.sin(angles))\n",
    "    avg = np.arctan2(y,x)\n",
    "    \n",
    "    return avg"
   ]
  },
  {
   "cell_type": "code",
   "execution_count": 45,
   "id": "23b86c40",
   "metadata": {},
   "outputs": [],
   "source": [
    "def splitXY(array):\n",
    "    X = np.zeros((array.shape[0]-14,14,array.shape[1],array.shape[2]))\n",
    "    Y = np.zeros((array.shape[0]-14,array.shape[1],array.shape[2]))\n",
    "    for day in range(array.shape[0]-14):\n",
    "        X[day,:,:,:] = array[day:day+14,:,:]\n",
    "    Y[:,:,:] = array[14:,:,:]\n",
    "    return X, Y"
   ]
  },
  {
   "cell_type": "code",
   "execution_count": null,
   "id": "b1608df5",
   "metadata": {},
   "outputs": [
    {
     "name": "stderr",
     "output_type": "stream",
     "text": [
      "/tmp/ipykernel_29134/865302382.py:5: DeprecationWarning: __array__ implementation doesn't accept a copy keyword, so passing copy=False failed. __array__ must implement 'dtype' and 'copy' keyword arguments.\n",
      "  X[day,:,:,:] = array[day:day+14,:,:]\n",
      "/tmp/ipykernel_29134/865302382.py:6: DeprecationWarning: __array__ implementation doesn't accept a copy keyword, so passing copy=False failed. __array__ must implement 'dtype' and 'copy' keyword arguments.\n",
      "  Y[:,:,:] = array[14:,:,:]\n"
     ]
    }
   ],
   "source": [
    "pa_trim = trim(pa)\n",
    "pa_trim = pa_trim.groupby(['Fecha', 'Hora', 'CodigoEstacion']).mean('ValorObservado').reset_index()\n",
    "pa_shape = reshape(pa_trim)\n",
    "pa_array = pa_shape.to_xarray()\n",
    "pa_array = interpolate(pa_array)\n",
    "pa_X, pa_Y = splitXY(pa_array)\n",
    "np.save('pa_X.npy', pa_X)"
   ]
  },
  {
   "cell_type": "code",
   "execution_count": null,
   "id": "9530ea79",
   "metadata": {},
   "outputs": [
    {
     "name": "stderr",
     "output_type": "stream",
     "text": [
      "/home/kanvolu/anaconda3/envs/tf-gpu/lib/python3.9/site-packages/numpy/_core/fromnumeric.py:84: FutureWarning: The behavior of DataFrame.sum with axis=None is deprecated, in a future version this will reduce over both axes and return a scalar. To retain the old behavior, pass axis=0 (or do not pass axis)\n",
      "  return reduction(axis=axis, out=out, **passkwargs)\n",
      "/tmp/ipykernel_29134/865302382.py:5: DeprecationWarning: __array__ implementation doesn't accept a copy keyword, so passing copy=False failed. __array__ must implement 'dtype' and 'copy' keyword arguments.\n",
      "  X[day,:,:,:] = array[day:day+14,:,:]\n",
      "/tmp/ipykernel_29134/865302382.py:6: DeprecationWarning: __array__ implementation doesn't accept a copy keyword, so passing copy=False failed. __array__ must implement 'dtype' and 'copy' keyword arguments.\n",
      "  Y[:,:,:] = array[14:,:,:]\n"
     ]
    }
   ],
   "source": [
    "hu_trim = trim(hu)\n",
    "hu_trim = hu_trim.groupby(['Fecha', 'Hora', 'CodigoEstacion']).apply(average_angle).reset_index()\n",
    "hu_shape = reshape(hu_trim)\n",
    "hu_array = hu_shape.to_xarray()\n",
    "hu_array = interpolate(hu_array)\n",
    "hu_X, hu_Y = splitXY(hu_array)\n",
    "np.save('hu_X.npy', hu_X)"
   ]
  },
  {
   "cell_type": "code",
   "execution_count": null,
   "id": "e2dc44b1",
   "metadata": {},
   "outputs": [
    {
     "name": "stderr",
     "output_type": "stream",
     "text": [
      "/tmp/ipykernel_29134/865302382.py:5: DeprecationWarning: __array__ implementation doesn't accept a copy keyword, so passing copy=False failed. __array__ must implement 'dtype' and 'copy' keyword arguments.\n",
      "  X[day,:,:,:] = array[day:day+14,:,:]\n",
      "/tmp/ipykernel_29134/865302382.py:6: DeprecationWarning: __array__ implementation doesn't accept a copy keyword, so passing copy=False failed. __array__ must implement 'dtype' and 'copy' keyword arguments.\n",
      "  Y[:,:,:] = array[14:,:,:]\n"
     ]
    }
   ],
   "source": [
    "pr_trim = trim(pr)\n",
    "pr_trim = pr_trim.groupby(['Fecha', 'Hora', 'CodigoEstacion']).mean('ValorObservado').reset_index()\n",
    "pr_shape = reshape(pr_trim)\n",
    "pr_array = pr_shape.to_xarray()\n",
    "pr_array = interpolate(pr_array)\n",
    "pr_X, pr_Y = splitXY(pr_array)\n",
    "np.save('pr_X.npy', pr_X)"
   ]
  },
  {
   "cell_type": "code",
   "execution_count": null,
   "id": "7bad89e7",
   "metadata": {},
   "outputs": [
    {
     "name": "stderr",
     "output_type": "stream",
     "text": [
      "/tmp/ipykernel_29134/865302382.py:5: DeprecationWarning: __array__ implementation doesn't accept a copy keyword, so passing copy=False failed. __array__ must implement 'dtype' and 'copy' keyword arguments.\n",
      "  X[day,:,:,:] = array[day:day+14,:,:]\n",
      "/tmp/ipykernel_29134/865302382.py:6: DeprecationWarning: __array__ implementation doesn't accept a copy keyword, so passing copy=False failed. __array__ must implement 'dtype' and 'copy' keyword arguments.\n",
      "  Y[:,:,:] = array[14:,:,:]\n"
     ]
    }
   ],
   "source": [
    "tp_trim = trim(tp)\n",
    "tp_trim = tp_trim.groupby(['Fecha', 'Hora', 'CodigoEstacion']).mean('ValorObservado').reset_index()\n",
    "tp_shape = reshape(tp_trim)\n",
    "tp_array = tp_shape.to_xarray()\n",
    "tp_array = interpolate(tp_array)\n",
    "tp_X, tp_Y = splitXY(tp_array)\n",
    "np.save('tp_X.npy', tp_X)"
   ]
  },
  {
   "cell_type": "code",
   "execution_count": null,
   "id": "7be2fba2",
   "metadata": {},
   "outputs": [
    {
     "name": "stderr",
     "output_type": "stream",
     "text": [
      "/tmp/ipykernel_29134/865302382.py:5: DeprecationWarning: __array__ implementation doesn't accept a copy keyword, so passing copy=False failed. __array__ must implement 'dtype' and 'copy' keyword arguments.\n",
      "  X[day,:,:,:] = array[day:day+14,:,:]\n",
      "/tmp/ipykernel_29134/865302382.py:6: DeprecationWarning: __array__ implementation doesn't accept a copy keyword, so passing copy=False failed. __array__ must implement 'dtype' and 'copy' keyword arguments.\n",
      "  Y[:,:,:] = array[14:,:,:]\n"
     ]
    }
   ],
   "source": [
    "dv_trim = trim(dv)\n",
    "dv_trim = dv_trim.groupby(['Fecha', 'Hora', 'CodigoEstacion']).apply(average_angle).reset_index()\n",
    "dv_shape = reshape(dv_trim)\n",
    "dv_array = dv_shape.to_xarray()\n",
    "dv_array = interpolate(dv_array)\n",
    "\n",
    "vv_trim = trim(vv)\n",
    "vv_trim = vv_trim.groupby(['Fecha', 'Hora', 'CodigoEstacion']).mean('ValorObservado').reset_index()\n",
    "vv_shape = reshape(vv_trim)\n",
    "vv_array = vv_shape.to_xarray()\n",
    "vv_array = interpolate(vv_array)\n",
    "\n",
    "vx = np.zeros(vv_array.shape)\n",
    "vy = vx\n",
    "vx = np.multiply(vv_array, np.cos(dv_array))\n",
    "vy = np.multiply(vv_array, np.sin(dv_array))\n",
    "\n",
    "\n",
    "vx_X, vx_Y = splitXY(vx)\n",
    "np.save('vx_X.npy', vx_X)\n",
    "\n",
    "\n",
    "vy_X, vy_Y = splitXY(vy)\n",
    "np.save('vy_X.npy', vy_X)"
   ]
  },
  {
   "cell_type": "code",
   "execution_count": 80,
   "id": "17220e65",
   "metadata": {},
   "outputs": [],
   "source": [
    "Y = np.zeros((4988,24,6,6))\n",
    "metrics = [hu_Y, pa_Y, vx_Y, vy_Y, tp_Y, pr_Y]\n",
    "for metric in range(len(metrics)):\n",
    "    Y[:,:,:,metric] = metrics[metric]\n",
    "np.save('Y.npy', Y)"
   ]
  },
  {
   "cell_type": "code",
   "execution_count": null,
   "id": "63956541",
   "metadata": {},
   "outputs": [],
   "source": []
  }
 ],
 "metadata": {
  "kernelspec": {
   "display_name": "tf-gpu",
   "language": "python",
   "name": "python3"
  },
  "language_info": {
   "codemirror_mode": {
    "name": "ipython",
    "version": 3
   },
   "file_extension": ".py",
   "mimetype": "text/x-python",
   "name": "python",
   "nbconvert_exporter": "python",
   "pygments_lexer": "ipython3",
   "version": "3.9.23"
  }
 },
 "nbformat": 4,
 "nbformat_minor": 5
}
